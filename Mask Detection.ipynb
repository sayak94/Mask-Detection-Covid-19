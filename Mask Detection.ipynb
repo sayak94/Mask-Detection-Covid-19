{
 "cells": [
  {
   "cell_type": "code",
   "execution_count": 1,
   "metadata": {},
   "outputs": [],
   "source": [
    "import os\n",
    "import zipfile\n",
    "import random\n",
    "import shutil\n",
    "import tensorflow as tf\n",
    "from tensorflow.keras.optimizers import RMSprop\n",
    "from tensorflow.keras.preprocessing.image import ImageDataGenerator,load_img, img_to_array\n",
    "from shutil import copyfile\n",
    "from os import getcwd\n",
    "from os import listdir\n",
    "import cv2\n",
    "from tensorflow.keras.layers import Conv2D, Input, ZeroPadding2D, BatchNormalization, Activation, MaxPooling2D, Flatten, Dense, GlobalAveragePooling2D, Dropout\n",
    "from tensorflow.keras.models import Model, load_model\n",
    "from tensorflow.keras.callbacks import TensorBoard, ModelCheckpoint\n",
    "from sklearn.model_selection import train_test_split\n",
    "from sklearn.metrics import f1_score\n",
    "from sklearn.utils import shuffle\n",
    "import imutils\n",
    "import numpy as np\n",
    "import matplotlib.pyplot as plt\n",
    "import matplotlib.image  as mpimg"
   ]
  },
  {
   "cell_type": "code",
   "execution_count": 2,
   "metadata": {},
   "outputs": [],
   "source": [
    "from tensorflow.keras.applications import MobileNetV2\n",
    "from tensorflow.keras.models import Sequential"
   ]
  },
  {
   "cell_type": "code",
   "execution_count": 3,
   "metadata": {},
   "outputs": [
    {
     "name": "stdout",
     "output_type": "stream",
     "text": [
      "The number of images with facemask:  690\n",
      "The number of images without facemask:  686\n"
     ]
    }
   ],
   "source": [
    "print(\"The number of images with facemask: \",len(os.listdir('experiements/data/with_mask')))\n",
    "print(\"The number of images without facemask: \",len(os.listdir('experiements/data/without_mask')))"
   ]
  },
  {
   "cell_type": "code",
   "execution_count": 4,
   "metadata": {},
   "outputs": [],
   "source": [
    "from tensorflow.keras.applications.mobilenet_v2 import preprocess_input"
   ]
  },
  {
   "cell_type": "code",
   "execution_count": 5,
   "metadata": {},
   "outputs": [],
   "source": [
    "def split_data(SOURCE, TRAINING, TESTING, SPLIT_SIZE):\n",
    "    dataset = []\n",
    "    \n",
    "    for unitData in os.listdir(SOURCE):\n",
    "        data = SOURCE + unitData\n",
    "        if(os.path.getsize(data) > 0):\n",
    "            dataset.append(unitData)\n",
    "        else:\n",
    "            print('Skipped ' + unitData)\n",
    "            print('Invalid file i.e zero size')\n",
    "    \n",
    "    train_set_length = int(len(dataset) * SPLIT_SIZE)\n",
    "    test_set_length = int(len(dataset) - train_set_length)\n",
    "    shuffled_set = random.sample(dataset, len(dataset))\n",
    "    train_set = dataset[0:train_set_length]\n",
    "    test_set = dataset[-test_set_length:]\n",
    "       \n",
    "    for unitData in train_set:\n",
    "        temp_train_set = SOURCE + unitData\n",
    "        final_train_set = TRAINING + unitData\n",
    "        copyfile(temp_train_set, final_train_set)\n",
    "    \n",
    "    for unitData in test_set:\n",
    "        temp_test_set = SOURCE + unitData\n",
    "        final_test_set = TESTING + unitData\n",
    "        copyfile(temp_test_set, final_test_set)"
   ]
  },
  {
   "cell_type": "code",
   "execution_count": 6,
   "metadata": {},
   "outputs": [],
   "source": [
    "YES_SOURCE_DIR = \"experiements/data/with_mask/\"\n",
    "TRAINING_YES_DIR = \"experiements/train/with_mask/\"\n",
    "TESTING_YES_DIR = \"experiements/test/with_mask/\"\n",
    "NO_SOURCE_DIR = \"experiements/data/without_mask/\"\n",
    "TRAINING_NO_DIR = \"experiements/train/without_mask/\"\n",
    "TESTING_NO_DIR = \"experiements/test/without_mask/\""
   ]
  },
  {
   "cell_type": "code",
   "execution_count": null,
   "metadata": {},
   "outputs": [],
   "source": [
    "split_size = .8\n",
    "split_data(YES_SOURCE_DIR, TRAINING_YES_DIR, TESTING_YES_DIR, split_size)\n",
    "split_data(NO_SOURCE_DIR, TRAINING_NO_DIR, TESTING_NO_DIR, split_size)"
   ]
  },
  {
   "cell_type": "code",
   "execution_count": 7,
   "metadata": {},
   "outputs": [
    {
     "name": "stdout",
     "output_type": "stream",
     "text": [
      "Found 1100 images belonging to 2 classes.\n",
      "Found 276 images belonging to 2 classes.\n"
     ]
    }
   ],
   "source": [
    "image_size = 150\n",
    "\n",
    "data_generator_with_aug = ImageDataGenerator(preprocessing_function=preprocess_input,\n",
    "                                   #rescale=1.0/255,\n",
    "                                   rotation_range=40,\n",
    "                                   width_shift_range=0.2,\n",
    "                                   height_shift_range=0.2,\n",
    "                                   shear_range=0.2,\n",
    "                                   zoom_range=0.2,\n",
    "                                   horizontal_flip=True)\n",
    "\n",
    "train_generator = data_generator_with_aug.flow_from_directory(\n",
    "        'experiements/train',\n",
    "        target_size=(image_size, image_size),\n",
    "        batch_size=15,\n",
    "        class_mode='categorical')\n",
    "\n",
    "data_generator_no_aug = ImageDataGenerator(preprocessing_function=preprocess_input)\n",
    "                                           #rescale=1.0/255)\n",
    "\n",
    "validation_generator = data_generator_no_aug.flow_from_directory(\n",
    "        'experiements/test',\n",
    "        #batch_size=10,\n",
    "        target_size=(image_size, image_size),\n",
    "        class_mode='categorical')\n"
   ]
  },
  {
   "cell_type": "code",
   "execution_count": 8,
   "metadata": {},
   "outputs": [
    {
     "name": "stderr",
     "output_type": "stream",
     "text": [
      "C:\\Users\\91891\\anaconda3\\envs\\tensorflow-gpu\\lib\\site-packages\\keras_applications\\mobilenet_v2.py:294: UserWarning: `input_shape` is undefined or non-square, or `rows` is not in [96, 128, 160, 192, 224]. Weights for input shape (224, 224) will be loaded as the default.\n",
      "  warnings.warn('`input_shape` is undefined or non-square, '\n"
     ]
    }
   ],
   "source": [
    "num_classes = 2\n",
    "\n",
    "model = Sequential()\n",
    "model.add(MobileNetV2(include_top=False, pooling='avg', weights='imagenet'))\n",
    "model.add(Dropout(0.5))\n",
    "model.add(Dense(50, activation='relu'))\n",
    "model.add(Dense(num_classes, activation='softmax'))\n",
    "\n",
    "\n",
    "model.layers[0].trainable = False\n",
    "\n",
    "model.compile(optimizer='sgd', \n",
    "                     loss='categorical_crossentropy', \n",
    "                     metrics=['accuracy'])\n",
    "\n"
   ]
  },
  {
   "cell_type": "code",
   "execution_count": 9,
   "metadata": {},
   "outputs": [
    {
     "name": "stdout",
     "output_type": "stream",
     "text": [
      "WARNING:tensorflow:From <ipython-input-9-3d5da8d89bcb>:6: Model.fit_generator (from tensorflow.python.keras.engine.training) is deprecated and will be removed in a future version.\n",
      "Instructions for updating:\n",
      "Please use Model.fit, which supports generators.\n",
      "WARNING:tensorflow:sample_weight modes were coerced from\n",
      "  ...\n",
      "    to  \n",
      "  ['...']\n",
      "WARNING:tensorflow:sample_weight modes were coerced from\n",
      "  ...\n",
      "    to  \n",
      "  ['...']\n",
      "Train for 74 steps, validate for 9 steps\n",
      "Epoch 1/10\n",
      "73/74 [============================>.] - ETA: 0s - loss: 0.6017 - accuracy: 0.6912WARNING:tensorflow:From C:\\Users\\91891\\anaconda3\\envs\\tensorflow-gpu\\lib\\site-packages\\tensorflow_core\\python\\ops\\resource_variable_ops.py:1786: calling BaseResourceVariable.__init__ (from tensorflow.python.ops.resource_variable_ops) with constraint is deprecated and will be removed in a future version.\n",
      "Instructions for updating:\n",
      "If using Keras pass *_constraint arguments to layers.\n",
      "INFO:tensorflow:Assets written to: model-001.model\\assets\n",
      "74/74 [==============================] - 34s 454ms/step - loss: 0.5993 - accuracy: 0.6918 - val_loss: 0.1919 - val_accuracy: 0.9348\n",
      "Epoch 2/10\n",
      "73/74 [============================>.] - ETA: 0s - loss: 0.3700 - accuracy: 0.8396INFO:tensorflow:Assets written to: model-002.model\\assets\n",
      "74/74 [==============================] - 29s 387ms/step - loss: 0.3705 - accuracy: 0.8382 - val_loss: 0.1262 - val_accuracy: 0.9565\n",
      "Epoch 3/10\n",
      "73/74 [============================>.] - ETA: 0s - loss: 0.2851 - accuracy: 0.8811INFO:tensorflow:Assets written to: model-003.model\\assets\n",
      "74/74 [==============================] - 29s 388ms/step - loss: 0.2855 - accuracy: 0.8791 - val_loss: 0.1078 - val_accuracy: 0.9710\n",
      "Epoch 4/10\n",
      "74/74 [==============================] - 9s 115ms/step - loss: 0.2571 - accuracy: 0.8945 - val_loss: 0.1241 - val_accuracy: 0.9493\n",
      "Epoch 5/10\n",
      "74/74 [==============================] - 8s 112ms/step - loss: 0.2481 - accuracy: 0.8973 - val_loss: 0.1739 - val_accuracy: 0.9239\n",
      "Epoch 6/10\n",
      "74/74 [==============================] - 8s 111ms/step - loss: 0.2189 - accuracy: 0.9064 - val_loss: 0.1935 - val_accuracy: 0.9239\n",
      "Epoch 7/10\n",
      "74/74 [==============================] - 8s 112ms/step - loss: 0.2376 - accuracy: 0.9064 - val_loss: 0.3050 - val_accuracy: 0.9058\n",
      "Epoch 8/10\n",
      "74/74 [==============================] - 9s 117ms/step - loss: 0.2184 - accuracy: 0.9009 - val_loss: 0.1454 - val_accuracy: 0.9384\n",
      "Epoch 9/10\n",
      "74/74 [==============================] - 9s 117ms/step - loss: 0.2352 - accuracy: 0.9009 - val_loss: 0.1118 - val_accuracy: 0.9710\n",
      "Epoch 10/10\n",
      "74/74 [==============================] - 9s 118ms/step - loss: 0.2063 - accuracy: 0.9191 - val_loss: 0.1496 - val_accuracy: 0.9420\n"
     ]
    }
   ],
   "source": [
    "checkpoint = ModelCheckpoint('model-{epoch:03d}.model',monitor='val_loss',verbose=0,save_best_only=True,mode='auto')\n",
    "\n",
    "fit_stats = model.fit_generator(train_generator,\n",
    "                              epochs=10,\n",
    "                              validation_data=validation_generator,\n",
    "                              callbacks=[checkpoint])"
   ]
  },
  {
   "cell_type": "code",
   "execution_count": 46,
   "metadata": {},
   "outputs": [],
   "source": [
    "from IPython.display import Image, display\n",
    "import scipy.misc\n",
    "from collections import deque\n",
    "Q = deque(maxlen=5)\n",
    "model = load_model(\"mask_detection.h5\")"
   ]
  },
  {
   "cell_type": "code",
   "execution_count": 49,
   "metadata": {},
   "outputs": [
    {
     "name": "stdout",
     "output_type": "stream",
     "text": [
      "Input image shape: (1, 150, 150, 3)\n"
     ]
    },
    {
     "data": {
      "image/jpeg": "[encoded data removed]",
      "text/plain": [
       "<IPython.core.display.Image object>"
      ]
     },
     "metadata": {},
     "output_type": "display_data"
    },
    {
     "name": "stdout",
     "output_type": "stream",
     "text": [
      "[[0.0130287 0.9869713]]\n"
     ]
    }
   ],
   "source": [
    "img_path = 'sample1.jpg'\n",
    "img = load_img(img_path, target_size=(150, 150))\n",
    "x = img_to_array(img)\n",
    "x = np.expand_dims(x, axis=0)\n",
    "x = preprocess_input(x)\n",
    "# x = x/255.0\n",
    "print('Input image shape:', x.shape)\n",
    "display(Image(img_path))\n",
    "preds = model.predict(x)\n",
    "Q.append(preds)\n",
    "results = np.array(Q).mean(axis=0)\n",
    "l = np.argmax(results)\n",
    "print(preds)"
   ]
  },
  {
   "cell_type": "code",
   "execution_count": 40,
   "metadata": {},
   "outputs": [],
   "source": [
    "face_clsfr=cv2.CascadeClassifier('Face-Mask-Detection-master/Face-Mask-Detection-master/haarcascade_frontalface_default.xml')"
   ]
  },
  {
   "cell_type": "code",
   "execution_count": null,
   "metadata": {},
   "outputs": [],
   "source": [
    "labels_dict={0:'with_mask', 1:'without_mask'}\n",
    "color_dict={0:(0,255,0), 1:(0,0,255)}\n",
    "advice_dict = {0:'You are safe', 1:'Please wear mask'}\n",
    "\n",
    "#Q = deque(maxlen=3)\n",
    "\n",
    "size = 4\n",
    "webcam = cv2.VideoCapture(0) #Use camera 0\n",
    "\n",
    "# We load the xml file\n",
    "classifier = cv2.CascadeClassifier('Face-Mask-Detection-master/Face-Mask-Detection-master/haarcascade_frontalface_default.xml')\n",
    "\n",
    "while True:\n",
    "    (rval, im) = webcam.read()\n",
    "    im=cv2.flip(im,1,1) #Flip to act as a mirror\n",
    "\n",
    "    # Resize the image to speed up detection\n",
    "    mini = cv2.resize(im, (im.shape[1] // size, im.shape[0] // size))\n",
    "\n",
    "    # detect MultiScale / faces \n",
    "    faces = classifier.detectMultiScale(mini)\n",
    "\n",
    "    # Draw rectangles around each face\n",
    "    for f in faces:\n",
    "        (x, y, w, h) = [v * size for v in f] #Scale the shapesize backup\n",
    "        #Save just the rectangle faces in SubRecFaces\n",
    "        face_img = im[y:y+h, x:x+w]\n",
    "        resized=cv2.resize(face_img,(150,150))\n",
    "        #normalized=resized/255.0\n",
    "        reshaped= np.reshape(resized,(1,150,150,3))\n",
    "        reshaped = np.vstack([reshaped])\n",
    "        reshaped = preprocess_input(reshaped)\n",
    "        preds=model.predict(reshaped)\n",
    "#         Q.append(preds)\n",
    "#         result = np.array(Q).mean(axis=0)\n",
    "        #print(result)\n",
    "        \n",
    "        label=np.argmax(preds,axis=1)[0]\n",
    "      \n",
    "        cv2.rectangle(im,(x,y),(x+w,y+h),color_dict[label],2)\n",
    "        cv2.rectangle(im,(x,y-40),(x+w,y),color_dict[label],-1)\n",
    "        cv2.putText(im, labels_dict[label], (x, y-10),cv2.FONT_HERSHEY_SIMPLEX,0.8,(255,255,255),2)\n",
    "        cv2.putText(im, advice_dict[label], (35, 50), cv2.FONT_HERSHEY_SIMPLEX, 1.25, (255, 0, 0), 5)\n",
    "        \n",
    "    # Show the image\n",
    "    cv2.imshow('LIVE',   im)\n",
    "    \n",
    "    \n",
    "    key = cv2.waitKey(10)\n",
    "    # if Esc key is press then break out of the loop \n",
    "    if key == 27: #The Esc key\n",
    "        break\n",
    "\n",
    "# Stop video\n",
    "webcam.release()\n",
    "\n",
    "# Close all started windows\n",
    "cv2.destroyAllWindows()\n"
   ]
  },
  {
   "cell_type": "code",
   "execution_count": 53,
   "metadata": {},
   "outputs": [],
   "source": []
  },
  {
   "cell_type": "code",
   "execution_count": 45,
   "metadata": {},
   "outputs": [],
   "source": [
    "model.save(\"mask_detection.h5\")"
   ]
  },
  {
   "cell_type": "code",
   "execution_count": null,
   "metadata": {},
   "outputs": [],
   "source": []
  }
 ],
 "metadata": {
  "kernelspec": {
   "display_name": "tensorflow-gpu",
   "language": "python",
   "name": "tensorflow-gpu"
  },
  "language_info": {
   "codemirror_mode": {
    "name": "ipython",
    "version": 3
   },
   "file_extension": ".py",
   "mimetype": "text/x-python",
   "name": "python",
   "nbconvert_exporter": "python",
   "pygments_lexer": "ipython3",
   "version": "3.7.7"
  }
 },
 "nbformat": 4,
 "nbformat_minor": 4
}
